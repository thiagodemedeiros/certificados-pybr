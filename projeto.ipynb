{
 "cells": [
  {
   "cell_type": "code",
   "execution_count": 10,
   "metadata": {},
   "outputs": [
    {
     "name": "stdout",
     "output_type": "stream",
     "text": [
      "Gato1\n",
      "Gato2\n"
     ]
    }
   ],
   "source": [
    "from bs4 import BeautifulSoup\n",
    "import csv\n",
    "import pdfkit\n",
    "\n",
    "path_wkhtmltopdf = r'C:\\Users\\Gledson\\OneDrive\\Área de Trabalho\\Códigos\\Python\\certificados\\venv\\wkhtmltopdf\\bin\\wkhtmltopdf.exe'\n",
    "config = pdfkit.configuration(wkhtmltopdf=path_wkhtmltopdf)\n",
    "\n",
    "with open('participantes.csv', 'r') as file:\n",
    "    participantes = csv.reader(file)\n",
    "\n",
    "    for indice, participante in enumerate(participantes):\n",
    "        if participante != ['nome', 'qrcode', 'codigo']:\n",
    "            print(participante[0])\n",
    "\n",
    "            # Ler o conteúdo do HTML\n",
    "            with open('./certificado.html', 'r', encoding='utf-8') as file:\n",
    "                certificado = file.read()\n",
    "\n",
    "            # Analisar o conteúdo\n",
    "            certificado_manipulavel = BeautifulSoup(certificado, 'html.parser')\n",
    "\n",
    "            #Aqui colocamos o nome do participante\n",
    "            certificado_manipulavel.h3.append(participante[0])\n",
    "\n",
    "            #Verificamos se a mudança foi realizada\n",
    "            certificado_manipulavel.find('h3')\n",
    "\n",
    "            #Criamos o arquivo\n",
    "            with open(f\"certificado{indice}.html\", \"w\") as out:\n",
    "                out.write(str(certificado_manipulavel))\n",
    "\n",
    "            options = {\n",
    "                'page-width': '1920px',  # Largura A4 em milímetros\n",
    "                'page-height': '1080px',  # Altura A4 em milímetros\n",
    "                'no-outline': None,\n",
    "                'margin-top': '0mm',\n",
    "                'margin-right': '0mm',\n",
    "                'margin-bottom': '0mm',\n",
    "                'margin-left': '0mm',\n",
    "            }\n",
    "\n",
    "            pdfkit.from_string(str(certificado_manipulavel), f'Certificado{indice}.pdf', configuration=config, options=options)"
   ]
  }
 ],
 "metadata": {
  "kernelspec": {
   "display_name": "venv",
   "language": "python",
   "name": "python3"
  },
  "language_info": {
   "codemirror_mode": {
    "name": "ipython",
    "version": 3
   },
   "file_extension": ".py",
   "mimetype": "text/x-python",
   "name": "python",
   "nbconvert_exporter": "python",
   "pygments_lexer": "ipython3",
   "version": "3.12.7"
  }
 },
 "nbformat": 4,
 "nbformat_minor": 2
}
